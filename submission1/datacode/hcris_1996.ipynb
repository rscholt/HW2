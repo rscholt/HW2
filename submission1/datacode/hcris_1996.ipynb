{
 "cells": [
  {
   "cell_type": "code",
   "execution_count": 2,
   "metadata": {},
   "outputs": [],
   "source": [
    "import pandas as pd\n",
    "import warnings\n",
    "warnings.simplefilter('ignore')"
   ]
  },
  {
   "cell_type": "code",
   "execution_count": 3,
   "metadata": {},
   "outputs": [],
   "source": [
    "# Define the list of variables and locations\n",
    "hcris_vars = pd.DataFrame([\n",
    "    ('beds', 'S300001', '01200', '0100', 'numeric'),\n",
    "    ('tot_charges', 'G300000', '00100', '0100', 'numeric'),\n",
    "    ('tot_discounts', 'G300000', '00200', '0100', 'numeric'),\n",
    "    ('tot_operating_exp', 'G300000', '00400', '0100', 'numeric'),\n",
    "    ('ip_charges', 'G200000', '00100', '0100', 'numeric'),\n",
    "    ('icu_charges', 'G200000', '01500', '0100', 'numeric'),\n",
    "    ('ancillary_charges', 'G200000', '01700', '0100', 'numeric'),\n",
    "    ('tot_discharges', 'S300001', '00100', '1500', 'numeric'),\n",
    "    ('mcare_discharges', 'S300001', '00100', '1300', 'numeric'),\n",
    "    ('mcaid_discharges', 'S300001', '00100', '1400', 'numeric'),\n",
    "    ('tot_mcare_payment', 'E00A18A', '01600', '0100', 'numeric'),\n",
    "    ('secondary_mcare_payment', 'E00A18A', '01700', '0100', 'numeric'),\n",
    "    ('street', 'S200000', '00100', '0100', 'alpha'),\n",
    "    ('city', 'S200000', '00101', '0100', 'alpha'),\n",
    "    ('state', 'S200000', '00101', '0200', 'alpha'),\n",
    "    ('zip', 'S200000', '00101', '0300', 'alpha'),\n",
    "    ('county', 'S200000', '00101', '0400', 'alpha')\n",
    "], columns=['variable', 'WKSHT_CD', 'LINE_NUM', 'CLMN_NUM', 'source'])\n",
    "\n",
    "#show dataframe\n",
    "#print(hcris_vars)\n"
   ]
  },
  {
   "cell_type": "code",
   "execution_count": 6,
   "metadata": {},
   "outputs": [
    {
     "name": "stdout",
     "output_type": "stream",
     "text": [
      "Processing year: 1998\n",
      "Processing year: 1999\n",
      "Processing year: 2000\n",
      "Processing year: 2001\n",
      "Processing year: 2002\n",
      "Processing year: 2003\n",
      "Processing year: 2004\n",
      "Processing year: 2005\n",
      "Processing year: 2006\n",
      "Processing year: 2007\n",
      "Processing year: 2008\n",
      "Processing year: 2009\n",
      "Processing year: 2010\n",
      "Processing year: 2011\n"
     ]
    }
   ],
   "source": [
    "# Pull relevant data: v1996 of HCRIS forms run through 2011 due to lags in processing and hospital fiscal years\n",
    "final_hcris_v1996 = None\n",
    "\n",
    "for year in range(1998,2012):\n",
    "    print('Processing year:', year)\n",
    "    alpha_path = f\"../../data/input/hosp_{year}_ALPHA.CSV\"\n",
    "    numeric_path = f\"../../data/input/hosp_{year}_NMRC.CSV\"\n",
    "    report_path = f\"../../data/input/hosp_{year}_RPT.CSV\"\n",
    "\n",
    "    alpha = pd.read_csv(alpha_path, names=['RPT_REC_NUM', 'WKSHT_CD', 'LINE_NUM', 'CLMN_NUM', 'ITM_VAL_NUM'])\n",
    "    numeric = pd.read_csv(numeric_path, names=['RPT_REC_NUM', 'WKSHT_CD', 'LINE_NUM', 'CLMN_NUM', 'ITM_VAL_NUM'])\n",
    "    report = pd.read_csv(report_path, names=['RPT_REC_NUM', 'PRVDR_CTRL_TYPE_CD', 'PRVDR_NUM', 'NPI',\n",
    "                                                   'RPT_STUS_CD', 'FY_BGN_DT', 'FY_END_DT', 'PROC_DT',\n",
    "                                                   'INITL_RPT_SW', 'LAST_RPT_SW', 'TRNSMTL_NUM', 'FI_NUM',\n",
    "                                                   'ADR_VNDR_CD', 'FI_CREAT_DT', 'UTIL_CD', 'NPR_DT',\n",
    "                                                   'SPEC_IND', 'FI_RCPT_DT'])\n",
    "    \n",
    "\n",
    "final_reports = report[['RPT_REC_NUM', 'PRVDR_NUM', 'NPI', 'FY_BGN_DT', 'FY_END_DT', 'PROC_DT',\n",
    "                                  'FI_CREAT_DT', 'RPT_STUS_CD']]\n",
    "final_reports.columns = ['report', 'provider_number', 'npi', 'fy_start', 'fy_end', 'date_processed',\n",
    "                             'date_created', 'status']\n",
    "final_reports['year'] = year\n",
    "\n",
    "for _, row in hcris_vars.iterrows():\n",
    "    data = numeric if row['source'] == 'numeric' else alpha\n",
    "    val = data[(data['WKSHT_CD'] == row['WKSHT_CD']) &\n",
    "                     (data['LINE_NUM'] == row['LINE_NUM']) &\n",
    "                     (data['CLMN_NUM'] == row['CLMN_NUM'])][['RPT_REC_NUM', 'ITM_VAL_NUM']]\n",
    "    val.columns = ['report', row['variable']]\n",
    "    final_reports = final_reports.merge(val, on='report', how='left')\n",
    "\n",
    "    if final_hcris_v1996 is None:\n",
    "        final_hcris_v1996 = final_reports\n",
    "    else:\n",
    "        final_hcris_v1996 = pd.concat([final_hcris_v1996, final_reports], ignore_index=True)\n",
    "\n",
    "final_hcris_v1996.to_csv('../../data/output/Final_HCRIS_v1996.csv', index=False)"
   ]
  },
  {
   "cell_type": "code",
   "execution_count": 7,
   "metadata": {},
   "outputs": [
    {
     "name": "stdout",
     "output_type": "stream",
     "text": [
      "              report  provider_number  npi      status    year  beds  \\\n",
      "count     578.000000       578.000000  0.0  578.000000   578.0   0.0   \n",
      "mean   288055.058824    343729.676471  NaN    1.970588  2011.0   NaN   \n",
      "std     12151.908636    201232.500864  NaN    0.295841     0.0   NaN   \n",
      "min    268339.000000     10016.000000  NaN    1.000000  2011.0   NaN   \n",
      "25%    277013.000000    200032.000000  NaN    2.000000  2011.0   NaN   \n",
      "50%    289367.500000    361583.500000  NaN    2.000000  2011.0   NaN   \n",
      "75%    300457.000000    463302.000000  NaN    2.000000  2011.0   NaN   \n",
      "max    302903.000000    673046.000000  NaN    3.000000  2011.0   NaN   \n",
      "\n",
      "       tot_charges  tot_discounts  tot_operating_exp  ip_charges  icu_charges  \\\n",
      "count          0.0            0.0                0.0         0.0          0.0   \n",
      "mean           NaN            NaN                NaN         NaN          NaN   \n",
      "std            NaN            NaN                NaN         NaN          NaN   \n",
      "min            NaN            NaN                NaN         NaN          NaN   \n",
      "25%            NaN            NaN                NaN         NaN          NaN   \n",
      "50%            NaN            NaN                NaN         NaN          NaN   \n",
      "75%            NaN            NaN                NaN         NaN          NaN   \n",
      "max            NaN            NaN                NaN         NaN          NaN   \n",
      "\n",
      "       ancillary_charges  tot_discharges  mcare_discharges  mcaid_discharges  \\\n",
      "count                0.0             0.0               0.0               0.0   \n",
      "mean                 NaN             NaN               NaN               NaN   \n",
      "std                  NaN             NaN               NaN               NaN   \n",
      "min                  NaN             NaN               NaN               NaN   \n",
      "25%                  NaN             NaN               NaN               NaN   \n",
      "50%                  NaN             NaN               NaN               NaN   \n",
      "75%                  NaN             NaN               NaN               NaN   \n",
      "max                  NaN             NaN               NaN               NaN   \n",
      "\n",
      "       tot_mcare_payment  secondary_mcare_payment  \n",
      "count                0.0                      0.0  \n",
      "mean                 NaN                      NaN  \n",
      "std                  NaN                      NaN  \n",
      "min                  NaN                      NaN  \n",
      "25%                  NaN                      NaN  \n",
      "50%                  NaN                      NaN  \n",
      "75%                  NaN                      NaN  \n",
      "max                  NaN                      NaN  \n"
     ]
    }
   ],
   "source": [
    "print(final_hcris_v1996.describe())"
   ]
  }
 ],
 "metadata": {
  "kernelspec": {
   "display_name": "base",
   "language": "python",
   "name": "python3"
  },
  "language_info": {
   "codemirror_mode": {
    "name": "ipython",
    "version": 3
   },
   "file_extension": ".py",
   "mimetype": "text/x-python",
   "name": "python",
   "nbconvert_exporter": "python",
   "pygments_lexer": "ipython3",
   "version": "3.10.16"
  }
 },
 "nbformat": 4,
 "nbformat_minor": 2
}
