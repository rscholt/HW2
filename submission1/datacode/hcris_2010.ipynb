{
 "cells": [
  {
   "cell_type": "code",
   "execution_count": 6,
   "metadata": {},
   "outputs": [
    {
     "name": "stdout",
     "output_type": "stream",
     "text": [
      "                   variable WKSHT_CD LINE_NUM CLMN_NUM   source\n",
      "0                      beds  S300001    01400    00200  numeric\n",
      "1               tot_charges  G300000    00100    00100  numeric\n",
      "2             tot_discounts  G300000    00200    00100  numeric\n",
      "3         tot_operating_exp  G300000    00400    00100  numeric\n",
      "4                ip_charges  G200000    00100    00100  numeric\n",
      "5               icu_charges  G200000    01600    00100  numeric\n",
      "6         ancillary_charges  G200000    01800    00100  numeric\n",
      "7            tot_discharges  S300001    00100    01500  numeric\n",
      "8          mcare_discharges  S300001    00100    01300  numeric\n",
      "9          mcaid_discharges  S300001    00100    01400  numeric\n",
      "10        tot_mcare_payment  E00A18A    05900    00100  numeric\n",
      "11  secondary_mcare_payment  E00A18A    06000    00100  numeric\n",
      "12                   street  S200001    00100    00100    alpha\n",
      "13                     city  S200001    00200    00100    alpha\n",
      "14                    state  S200001    00200    00200    alpha\n",
      "15                      zip  S200001    00200    00300    alpha\n",
      "16                   county  S200001    00200    00400    alpha\n",
      "17             hvbp_payment  E00A18A    07093    00100  numeric\n",
      "18             hrrp_payment  E00A18A    07094    00100  numeric\n"
     ]
    }
   ],
   "source": [
    "import pandas as pd\n",
    "import warnings\n",
    "warnings.simplefilter('ignore')\n",
    "\n",
    "# Define variables and locations\n",
    "hcris_vars =  pd.DataFrame([\n",
    "    ('beds', 'S300001', '01400', '00200', 'numeric'),\n",
    "    ('tot_charges', 'G300000', '00100', '00100', 'numeric'),\n",
    "    ('tot_discounts', 'G300000', '00200', '00100', 'numeric'),\n",
    "    ('tot_operating_exp', 'G300000', '00400', '00100', 'numeric'),\n",
    "    ('ip_charges', 'G200000', '00100', '00100', 'numeric'),\n",
    "    ('icu_charges', 'G200000', '01600', '00100', 'numeric'),\n",
    "    ('ancillary_charges', 'G200000', '01800', '00100', 'numeric'),\n",
    "    ('tot_discharges', 'S300001', '00100', '01500', 'numeric'),\n",
    "    ('mcare_discharges', 'S300001', '00100', '01300', 'numeric'),\n",
    "    ('mcaid_discharges', 'S300001', '00100', '01400', 'numeric'),\n",
    "    ('tot_mcare_payment', 'E00A18A', '05900', '00100', 'numeric'),\n",
    "    ('secondary_mcare_payment', 'E00A18A', '06000', '00100', 'numeric'),\n",
    "    ('street', 'S200001', '00100', '00100', 'alpha'),\n",
    "    ('city', 'S200001', '00200', '00100', 'alpha'),\n",
    "    ('state', 'S200001', '00200', '00200', 'alpha'),\n",
    "    ('zip', 'S200001', '00200', '00300', 'alpha'),\n",
    "    ('county', 'S200001', '00200', '00400', 'alpha'),\n",
    "    ('hvbp_payment', 'E00A18A', '07093', '00100', 'numeric'),\n",
    "    ('hrrp_payment', 'E00A18A', '07094', '00100', 'numeric')\n",
    "], columns=['variable', 'WKSHT_CD', 'LINE_NUM', 'CLMN_NUM', 'source'])\n",
    "\n",
    "print(hcris_vars)\n"
   ]
  },
  {
   "cell_type": "code",
   "execution_count": null,
   "metadata": {},
   "outputs": [],
   "source": []
  }
 ],
 "metadata": {
  "kernelspec": {
   "display_name": "base",
   "language": "python",
   "name": "python3"
  },
  "language_info": {
   "codemirror_mode": {
    "name": "ipython",
    "version": 3
   },
   "file_extension": ".py",
   "mimetype": "text/x-python",
   "name": "python",
   "nbconvert_exporter": "python",
   "pygments_lexer": "ipython3",
   "version": "3.10.16"
  }
 },
 "nbformat": 4,
 "nbformat_minor": 2
}
